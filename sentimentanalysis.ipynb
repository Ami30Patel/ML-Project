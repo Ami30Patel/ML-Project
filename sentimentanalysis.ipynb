{
 "cells": [
  {
   "cell_type": "code",
   "execution_count": 1,
   "id": "f95c750e",
   "metadata": {},
   "outputs": [],
   "source": [
    "import numpy as np\n",
    "import pandas as pd\n",
    "import matplotlib.pyplot as plt\n",
    "import warnings"
   ]
  },
  {
   "cell_type": "code",
   "execution_count": 2,
   "id": "a025787a",
   "metadata": {},
   "outputs": [],
   "source": [
    "warnings.filterwarnings('ignore')"
   ]
  },
  {
   "cell_type": "code",
   "execution_count": 3,
   "id": "3ddc2b10",
   "metadata": {},
   "outputs": [],
   "source": [
    "df = pd.read_csv(\"D:\\\\mini project\\\\tripadvisor_hotel_reviews.csv\")"
   ]
  },
  {
   "cell_type": "code",
   "execution_count": 4,
   "id": "3050a6a3",
   "metadata": {},
   "outputs": [
    {
     "data": {
      "text/html": [
       "<div>\n",
       "<style scoped>\n",
       "    .dataframe tbody tr th:only-of-type {\n",
       "        vertical-align: middle;\n",
       "    }\n",
       "\n",
       "    .dataframe tbody tr th {\n",
       "        vertical-align: top;\n",
       "    }\n",
       "\n",
       "    .dataframe thead th {\n",
       "        text-align: right;\n",
       "    }\n",
       "</style>\n",
       "<table border=\"1\" class=\"dataframe\">\n",
       "  <thead>\n",
       "    <tr style=\"text-align: right;\">\n",
       "      <th></th>\n",
       "      <th>Review</th>\n",
       "      <th>Rating</th>\n",
       "    </tr>\n",
       "  </thead>\n",
       "  <tbody>\n",
       "    <tr>\n",
       "      <th>0</th>\n",
       "      <td>nice hotel expensive parking got good deal sta...</td>\n",
       "      <td>4</td>\n",
       "    </tr>\n",
       "    <tr>\n",
       "      <th>1</th>\n",
       "      <td>ok nothing special charge diamond member hilto...</td>\n",
       "      <td>2</td>\n",
       "    </tr>\n",
       "    <tr>\n",
       "      <th>2</th>\n",
       "      <td>nice rooms not 4* experience hotel monaco seat...</td>\n",
       "      <td>3</td>\n",
       "    </tr>\n",
       "    <tr>\n",
       "      <th>3</th>\n",
       "      <td>unique, great stay, wonderful time hotel monac...</td>\n",
       "      <td>5</td>\n",
       "    </tr>\n",
       "    <tr>\n",
       "      <th>4</th>\n",
       "      <td>great stay great stay, went seahawk game aweso...</td>\n",
       "      <td>5</td>\n",
       "    </tr>\n",
       "  </tbody>\n",
       "</table>\n",
       "</div>"
      ],
      "text/plain": [
       "                                              Review  Rating\n",
       "0  nice hotel expensive parking got good deal sta...       4\n",
       "1  ok nothing special charge diamond member hilto...       2\n",
       "2  nice rooms not 4* experience hotel monaco seat...       3\n",
       "3  unique, great stay, wonderful time hotel monac...       5\n",
       "4  great stay great stay, went seahawk game aweso...       5"
      ]
     },
     "execution_count": 4,
     "metadata": {},
     "output_type": "execute_result"
    }
   ],
   "source": [
    "df.head()"
   ]
  },
  {
   "cell_type": "code",
   "execution_count": 5,
   "id": "4d60ab40",
   "metadata": {},
   "outputs": [
    {
     "data": {
      "text/plain": [
       "(20491, 2)"
      ]
     },
     "execution_count": 5,
     "metadata": {},
     "output_type": "execute_result"
    }
   ],
   "source": [
    "df.shape"
   ]
  },
  {
   "cell_type": "markdown",
   "id": "95f93b30",
   "metadata": {},
   "source": [
    "## cleaning the data"
   ]
  },
  {
   "cell_type": "code",
   "execution_count": 6,
   "id": "fb19bf78",
   "metadata": {},
   "outputs": [
    {
     "data": {
      "text/plain": [
       "Review    0\n",
       "Rating    0\n",
       "dtype: int64"
      ]
     },
     "execution_count": 6,
     "metadata": {},
     "output_type": "execute_result"
    }
   ],
   "source": [
    "df.isnull().sum()"
   ]
  },
  {
   "cell_type": "code",
   "execution_count": 7,
   "id": "7a619483",
   "metadata": {},
   "outputs": [
    {
     "data": {
      "text/plain": [
       "Rating\n",
       "5    9054\n",
       "4    6039\n",
       "3    2184\n",
       "2    1793\n",
       "1    1421\n",
       "Name: count, dtype: int64"
      ]
     },
     "execution_count": 7,
     "metadata": {},
     "output_type": "execute_result"
    }
   ],
   "source": [
    "df[\"Rating\"].value_counts()"
   ]
  },
  {
   "cell_type": "code",
   "execution_count": 8,
   "id": "52627d06",
   "metadata": {},
   "outputs": [],
   "source": [
    "df_neg=df.loc[df[\"Rating\"] < 3]\n",
    "df_neg=df_neg.reset_index(drop=True)\n",
    "\n"
   ]
  },
  {
   "cell_type": "code",
   "execution_count": 9,
   "id": "b4b88403",
   "metadata": {},
   "outputs": [],
   "source": [
    "df_five=df.loc[df[\"Rating\"]==5]\n",
    "df_five=df_five.reset_index(drop=True)"
   ]
  },
  {
   "cell_type": "code",
   "execution_count": 10,
   "id": "46d037a9",
   "metadata": {},
   "outputs": [
    {
     "name": "stdout",
     "output_type": "stream",
     "text": [
      "3214\n"
     ]
    }
   ],
   "source": [
    "print(len(df_neg))"
   ]
  },
  {
   "cell_type": "code",
   "execution_count": 11,
   "id": "28186b18",
   "metadata": {},
   "outputs": [
    {
     "name": "stdout",
     "output_type": "stream",
     "text": [
      "9054\n"
     ]
    }
   ],
   "source": [
    "print(len(df_five))"
   ]
  },
  {
   "cell_type": "code",
   "execution_count": 12,
   "id": "b8767bb8",
   "metadata": {},
   "outputs": [],
   "source": [
    "df_pos=df_five.loc[:len(df_neg )]"
   ]
  },
  {
   "cell_type": "code",
   "execution_count": 13,
   "id": "2ee2eecc",
   "metadata": {},
   "outputs": [
    {
     "data": {
      "text/plain": [
       "3215"
      ]
     },
     "execution_count": 13,
     "metadata": {},
     "output_type": "execute_result"
    }
   ],
   "source": [
    "len(df_pos)"
   ]
  },
  {
   "cell_type": "code",
   "execution_count": 14,
   "id": "540f0d7d",
   "metadata": {},
   "outputs": [],
   "source": [
    "df_all=pd.concat([df_neg,df_pos],axis=0)\n",
    "df_all=df_all.reset_index(drop=True)"
   ]
  },
  {
   "cell_type": "code",
   "execution_count": 15,
   "id": "581c08e1",
   "metadata": {},
   "outputs": [
    {
     "data": {
      "text/plain": [
       "6429"
      ]
     },
     "execution_count": 15,
     "metadata": {},
     "output_type": "execute_result"
    }
   ],
   "source": [
    "len(df_all)"
   ]
  },
  {
   "cell_type": "code",
   "execution_count": 16,
   "id": "2a0148ca",
   "metadata": {},
   "outputs": [
    {
     "data": {
      "text/html": [
       "<div>\n",
       "<style scoped>\n",
       "    .dataframe tbody tr th:only-of-type {\n",
       "        vertical-align: middle;\n",
       "    }\n",
       "\n",
       "    .dataframe tbody tr th {\n",
       "        vertical-align: top;\n",
       "    }\n",
       "\n",
       "    .dataframe thead th {\n",
       "        text-align: right;\n",
       "    }\n",
       "</style>\n",
       "<table border=\"1\" class=\"dataframe\">\n",
       "  <thead>\n",
       "    <tr style=\"text-align: right;\">\n",
       "      <th></th>\n",
       "      <th>Review</th>\n",
       "      <th>Rating</th>\n",
       "    </tr>\n",
       "  </thead>\n",
       "  <tbody>\n",
       "    <tr>\n",
       "      <th>0</th>\n",
       "      <td>ok nothing special charge diamond member hilto...</td>\n",
       "      <td>0</td>\n",
       "    </tr>\n",
       "    <tr>\n",
       "      <th>1</th>\n",
       "      <td>poor value stayed monaco seattle july, nice ho...</td>\n",
       "      <td>0</td>\n",
       "    </tr>\n",
       "    <tr>\n",
       "      <th>2</th>\n",
       "      <td>horrible customer service hotel stay february ...</td>\n",
       "      <td>0</td>\n",
       "    </tr>\n",
       "    <tr>\n",
       "      <th>3</th>\n",
       "      <td>disappointed say anticipating stay hotel monac...</td>\n",
       "      <td>0</td>\n",
       "    </tr>\n",
       "    <tr>\n",
       "      <th>4</th>\n",
       "      <td>great location need internally upgrade advanta...</td>\n",
       "      <td>0</td>\n",
       "    </tr>\n",
       "  </tbody>\n",
       "</table>\n",
       "</div>"
      ],
      "text/plain": [
       "                                              Review Rating\n",
       "0  ok nothing special charge diamond member hilto...      0\n",
       "1  poor value stayed monaco seattle july, nice ho...      0\n",
       "2  horrible customer service hotel stay february ...      0\n",
       "3  disappointed say anticipating stay hotel monac...      0\n",
       "4  great location need internally upgrade advanta...      0"
      ]
     },
     "execution_count": 16,
     "metadata": {},
     "output_type": "execute_result"
    }
   ],
   "source": [
    "df_all[\"Rating\"]=np.where(df_all[\"Rating\"]==5,'1','0')\n",
    "df_all.head()"
   ]
  },
  {
   "cell_type": "code",
   "execution_count": 17,
   "id": "0f2a4e85",
   "metadata": {},
   "outputs": [
    {
     "data": {
      "text/html": [
       "<div>\n",
       "<style scoped>\n",
       "    .dataframe tbody tr th:only-of-type {\n",
       "        vertical-align: middle;\n",
       "    }\n",
       "\n",
       "    .dataframe tbody tr th {\n",
       "        vertical-align: top;\n",
       "    }\n",
       "\n",
       "    .dataframe thead th {\n",
       "        text-align: right;\n",
       "    }\n",
       "</style>\n",
       "<table border=\"1\" class=\"dataframe\">\n",
       "  <thead>\n",
       "    <tr style=\"text-align: right;\">\n",
       "      <th></th>\n",
       "      <th>Review</th>\n",
       "      <th>Rating</th>\n",
       "    </tr>\n",
       "  </thead>\n",
       "  <tbody>\n",
       "    <tr>\n",
       "      <th>6424</th>\n",
       "      <td>perfect hotel hotel does not really need glowi...</td>\n",
       "      <td>1</td>\n",
       "    </tr>\n",
       "    <tr>\n",
       "      <th>6425</th>\n",
       "      <td>perfect hotel small hotel comfortable perfect ...</td>\n",
       "      <td>1</td>\n",
       "    </tr>\n",
       "    <tr>\n",
       "      <th>6426</th>\n",
       "      <td>ordinary location extraordinary hotel know lov...</td>\n",
       "      <td>1</td>\n",
       "    </tr>\n",
       "    <tr>\n",
       "      <th>6427</th>\n",
       "      <td>classy indulgence awesome experience, staff n'...</td>\n",
       "      <td>1</td>\n",
       "    </tr>\n",
       "    <tr>\n",
       "      <th>6428</th>\n",
       "      <td>first-rate experience stay library hotel wife ...</td>\n",
       "      <td>1</td>\n",
       "    </tr>\n",
       "  </tbody>\n",
       "</table>\n",
       "</div>"
      ],
      "text/plain": [
       "                                                 Review Rating\n",
       "6424  perfect hotel hotel does not really need glowi...      1\n",
       "6425  perfect hotel small hotel comfortable perfect ...      1\n",
       "6426  ordinary location extraordinary hotel know lov...      1\n",
       "6427  classy indulgence awesome experience, staff n'...      1\n",
       "6428  first-rate experience stay library hotel wife ...      1"
      ]
     },
     "execution_count": 17,
     "metadata": {},
     "output_type": "execute_result"
    }
   ],
   "source": [
    "df_all.tail()"
   ]
  },
  {
   "cell_type": "code",
   "execution_count": 18,
   "id": "b5815abd",
   "metadata": {},
   "outputs": [
    {
     "data": {
      "text/html": [
       "<div>\n",
       "<style scoped>\n",
       "    .dataframe tbody tr th:only-of-type {\n",
       "        vertical-align: middle;\n",
       "    }\n",
       "\n",
       "    .dataframe tbody tr th {\n",
       "        vertical-align: top;\n",
       "    }\n",
       "\n",
       "    .dataframe thead th {\n",
       "        text-align: right;\n",
       "    }\n",
       "</style>\n",
       "<table border=\"1\" class=\"dataframe\">\n",
       "  <thead>\n",
       "    <tr style=\"text-align: right;\">\n",
       "      <th></th>\n",
       "      <th>Review</th>\n",
       "      <th>Rating</th>\n",
       "    </tr>\n",
       "  </thead>\n",
       "  <tbody>\n",
       "    <tr>\n",
       "      <th>0</th>\n",
       "      <td>stayed better, hotel location ok building work...</td>\n",
       "      <td>0</td>\n",
       "    </tr>\n",
       "    <tr>\n",
       "      <th>1</th>\n",
       "      <td>fabulous resort family spent week beautiful pr...</td>\n",
       "      <td>1</td>\n",
       "    </tr>\n",
       "    <tr>\n",
       "      <th>2</th>\n",
       "      <td>friendly great location owners hotel extremely...</td>\n",
       "      <td>1</td>\n",
       "    </tr>\n",
       "    <tr>\n",
       "      <th>3</th>\n",
       "      <td>great air conditioning n't high priority list ...</td>\n",
       "      <td>0</td>\n",
       "    </tr>\n",
       "    <tr>\n",
       "      <th>4</th>\n",
       "      <td>beautiful hotels stayed rooms cruise serenade ...</td>\n",
       "      <td>1</td>\n",
       "    </tr>\n",
       "    <tr>\n",
       "      <th>5</th>\n",
       "      <td>disaapointing stay embasssy suites stayed emba...</td>\n",
       "      <td>0</td>\n",
       "    </tr>\n",
       "    <tr>\n",
       "      <th>6</th>\n",
       "      <td>quaint not rundown son decided celebrate gradu...</td>\n",
       "      <td>0</td>\n",
       "    </tr>\n",
       "    <tr>\n",
       "      <th>7</th>\n",
       "      <td>unpleasant stay, l stayed pensione hotel recen...</td>\n",
       "      <td>0</td>\n",
       "    </tr>\n",
       "    <tr>\n",
       "      <th>8</th>\n",
       "      <td>food make sick 9 days suffering stayed dreams ...</td>\n",
       "      <td>0</td>\n",
       "    </tr>\n",
       "    <tr>\n",
       "      <th>9</th>\n",
       "      <td>not best experiences, recommended owl hotel cl...</td>\n",
       "      <td>0</td>\n",
       "    </tr>\n",
       "  </tbody>\n",
       "</table>\n",
       "</div>"
      ],
      "text/plain": [
       "                                              Review Rating\n",
       "0  stayed better, hotel location ok building work...      0\n",
       "1  fabulous resort family spent week beautiful pr...      1\n",
       "2  friendly great location owners hotel extremely...      1\n",
       "3  great air conditioning n't high priority list ...      0\n",
       "4  beautiful hotels stayed rooms cruise serenade ...      1\n",
       "5  disaapointing stay embasssy suites stayed emba...      0\n",
       "6  quaint not rundown son decided celebrate gradu...      0\n",
       "7  unpleasant stay, l stayed pensione hotel recen...      0\n",
       "8  food make sick 9 days suffering stayed dreams ...      0\n",
       "9  not best experiences, recommended owl hotel cl...      0"
      ]
     },
     "execution_count": 18,
     "metadata": {},
     "output_type": "execute_result"
    }
   ],
   "source": [
    "df_all=df_all.sample(frac=1)\n",
    "df_all=df_all.reset_index(drop=True)\n",
    "df_all.head(10)"
   ]
  },
  {
   "cell_type": "code",
   "execution_count": 19,
   "id": "58719d48",
   "metadata": {},
   "outputs": [
    {
     "data": {
      "text/plain": [
       "Rating\n",
       "1    3215\n",
       "0    3214\n",
       "Name: count, dtype: int64"
      ]
     },
     "execution_count": 19,
     "metadata": {},
     "output_type": "execute_result"
    }
   ],
   "source": [
    "df_all['Rating'].value_counts()"
   ]
  },
  {
   "cell_type": "code",
   "execution_count": 20,
   "id": "997e0aee",
   "metadata": {},
   "outputs": [
    {
     "data": {
      "text/html": [
       "<div>\n",
       "<style scoped>\n",
       "    .dataframe tbody tr th:only-of-type {\n",
       "        vertical-align: middle;\n",
       "    }\n",
       "\n",
       "    .dataframe tbody tr th {\n",
       "        vertical-align: top;\n",
       "    }\n",
       "\n",
       "    .dataframe thead th {\n",
       "        text-align: right;\n",
       "    }\n",
       "</style>\n",
       "<table border=\"1\" class=\"dataframe\">\n",
       "  <thead>\n",
       "    <tr style=\"text-align: right;\">\n",
       "      <th></th>\n",
       "      <th>Review</th>\n",
       "      <th>Rating</th>\n",
       "    </tr>\n",
       "  </thead>\n",
       "  <tbody>\n",
       "    <tr>\n",
       "      <th>0</th>\n",
       "      <td>stayed better, hotel location ok building work...</td>\n",
       "      <td>0</td>\n",
       "    </tr>\n",
       "    <tr>\n",
       "      <th>1</th>\n",
       "      <td>fabulous resort family spent week beautiful pr...</td>\n",
       "      <td>1</td>\n",
       "    </tr>\n",
       "    <tr>\n",
       "      <th>2</th>\n",
       "      <td>friendly great location owners hotel extremely...</td>\n",
       "      <td>1</td>\n",
       "    </tr>\n",
       "    <tr>\n",
       "      <th>3</th>\n",
       "      <td>great air conditioning n't high priority list ...</td>\n",
       "      <td>0</td>\n",
       "    </tr>\n",
       "    <tr>\n",
       "      <th>4</th>\n",
       "      <td>beautiful hotels stayed rooms cruise serenade ...</td>\n",
       "      <td>1</td>\n",
       "    </tr>\n",
       "  </tbody>\n",
       "</table>\n",
       "</div>"
      ],
      "text/plain": [
       "                                              Review Rating\n",
       "0  stayed better, hotel location ok building work...      0\n",
       "1  fabulous resort family spent week beautiful pr...      1\n",
       "2  friendly great location owners hotel extremely...      1\n",
       "3  great air conditioning n't high priority list ...      0\n",
       "4  beautiful hotels stayed rooms cruise serenade ...      1"
      ]
     },
     "execution_count": 20,
     "metadata": {},
     "output_type": "execute_result"
    }
   ],
   "source": [
    "df_all.head()"
   ]
  },
  {
   "cell_type": "code",
   "execution_count": 21,
   "id": "78896f7f",
   "metadata": {},
   "outputs": [],
   "source": [
    "df_all['count_char']=df_all['Review'].apply(len)"
   ]
  },
  {
   "cell_type": "code",
   "execution_count": 22,
   "id": "d013578a",
   "metadata": {},
   "outputs": [
    {
     "data": {
      "text/html": [
       "<div>\n",
       "<style scoped>\n",
       "    .dataframe tbody tr th:only-of-type {\n",
       "        vertical-align: middle;\n",
       "    }\n",
       "\n",
       "    .dataframe tbody tr th {\n",
       "        vertical-align: top;\n",
       "    }\n",
       "\n",
       "    .dataframe thead th {\n",
       "        text-align: right;\n",
       "    }\n",
       "</style>\n",
       "<table border=\"1\" class=\"dataframe\">\n",
       "  <thead>\n",
       "    <tr style=\"text-align: right;\">\n",
       "      <th></th>\n",
       "      <th>Review</th>\n",
       "      <th>Rating</th>\n",
       "      <th>count_char</th>\n",
       "    </tr>\n",
       "  </thead>\n",
       "  <tbody>\n",
       "    <tr>\n",
       "      <th>0</th>\n",
       "      <td>stayed better, hotel location ok building work...</td>\n",
       "      <td>0</td>\n",
       "      <td>707</td>\n",
       "    </tr>\n",
       "    <tr>\n",
       "      <th>1</th>\n",
       "      <td>fabulous resort family spent week beautiful pr...</td>\n",
       "      <td>1</td>\n",
       "      <td>247</td>\n",
       "    </tr>\n",
       "    <tr>\n",
       "      <th>2</th>\n",
       "      <td>friendly great location owners hotel extremely...</td>\n",
       "      <td>1</td>\n",
       "      <td>351</td>\n",
       "    </tr>\n",
       "    <tr>\n",
       "      <th>3</th>\n",
       "      <td>great air conditioning n't high priority list ...</td>\n",
       "      <td>0</td>\n",
       "      <td>1319</td>\n",
       "    </tr>\n",
       "    <tr>\n",
       "      <th>4</th>\n",
       "      <td>beautiful hotels stayed rooms cruise serenade ...</td>\n",
       "      <td>1</td>\n",
       "      <td>449</td>\n",
       "    </tr>\n",
       "  </tbody>\n",
       "</table>\n",
       "</div>"
      ],
      "text/plain": [
       "                                              Review Rating  count_char\n",
       "0  stayed better, hotel location ok building work...      0         707\n",
       "1  fabulous resort family spent week beautiful pr...      1         247\n",
       "2  friendly great location owners hotel extremely...      1         351\n",
       "3  great air conditioning n't high priority list ...      0        1319\n",
       "4  beautiful hotels stayed rooms cruise serenade ...      1         449"
      ]
     },
     "execution_count": 22,
     "metadata": {},
     "output_type": "execute_result"
    }
   ],
   "source": [
    "df_all.head()"
   ]
  },
  {
   "cell_type": "code",
   "execution_count": 23,
   "id": "233e2850",
   "metadata": {},
   "outputs": [],
   "source": [
    "df_all['count_word']=df_all['Review'].apply(lambda x :len(str(x).split()))"
   ]
  },
  {
   "cell_type": "code",
   "execution_count": 24,
   "id": "4e74e8f4",
   "metadata": {},
   "outputs": [
    {
     "data": {
      "text/html": [
       "<div>\n",
       "<style scoped>\n",
       "    .dataframe tbody tr th:only-of-type {\n",
       "        vertical-align: middle;\n",
       "    }\n",
       "\n",
       "    .dataframe tbody tr th {\n",
       "        vertical-align: top;\n",
       "    }\n",
       "\n",
       "    .dataframe thead th {\n",
       "        text-align: right;\n",
       "    }\n",
       "</style>\n",
       "<table border=\"1\" class=\"dataframe\">\n",
       "  <thead>\n",
       "    <tr style=\"text-align: right;\">\n",
       "      <th></th>\n",
       "      <th>Review</th>\n",
       "      <th>Rating</th>\n",
       "      <th>count_char</th>\n",
       "      <th>count_word</th>\n",
       "    </tr>\n",
       "  </thead>\n",
       "  <tbody>\n",
       "    <tr>\n",
       "      <th>0</th>\n",
       "      <td>stayed better, hotel location ok building work...</td>\n",
       "      <td>0</td>\n",
       "      <td>707</td>\n",
       "      <td>108</td>\n",
       "    </tr>\n",
       "    <tr>\n",
       "      <th>1</th>\n",
       "      <td>fabulous resort family spent week beautiful pr...</td>\n",
       "      <td>1</td>\n",
       "      <td>247</td>\n",
       "      <td>33</td>\n",
       "    </tr>\n",
       "    <tr>\n",
       "      <th>2</th>\n",
       "      <td>friendly great location owners hotel extremely...</td>\n",
       "      <td>1</td>\n",
       "      <td>351</td>\n",
       "      <td>51</td>\n",
       "    </tr>\n",
       "    <tr>\n",
       "      <th>3</th>\n",
       "      <td>great air conditioning n't high priority list ...</td>\n",
       "      <td>0</td>\n",
       "      <td>1319</td>\n",
       "      <td>195</td>\n",
       "    </tr>\n",
       "    <tr>\n",
       "      <th>4</th>\n",
       "      <td>beautiful hotels stayed rooms cruise serenade ...</td>\n",
       "      <td>1</td>\n",
       "      <td>449</td>\n",
       "      <td>64</td>\n",
       "    </tr>\n",
       "  </tbody>\n",
       "</table>\n",
       "</div>"
      ],
      "text/plain": [
       "                                              Review Rating  count_char  \\\n",
       "0  stayed better, hotel location ok building work...      0         707   \n",
       "1  fabulous resort family spent week beautiful pr...      1         247   \n",
       "2  friendly great location owners hotel extremely...      1         351   \n",
       "3  great air conditioning n't high priority list ...      0        1319   \n",
       "4  beautiful hotels stayed rooms cruise serenade ...      1         449   \n",
       "\n",
       "   count_word  \n",
       "0         108  \n",
       "1          33  \n",
       "2          51  \n",
       "3         195  \n",
       "4          64  "
      ]
     },
     "execution_count": 24,
     "metadata": {},
     "output_type": "execute_result"
    }
   ],
   "source": [
    "df_all.head()"
   ]
  },
  {
   "cell_type": "code",
   "execution_count": 25,
   "id": "fcccf2b5",
   "metadata": {},
   "outputs": [],
   "source": [
    "import nltk"
   ]
  },
  {
   "cell_type": "code",
   "execution_count": 26,
   "id": "8b8a4cd6",
   "metadata": {},
   "outputs": [
    {
     "name": "stderr",
     "output_type": "stream",
     "text": [
      "[nltk_data] Downloading package punkt to\n",
      "[nltk_data]     C:\\Users\\tanes\\AppData\\Roaming\\nltk_data...\n",
      "[nltk_data]   Package punkt is already up-to-date!\n"
     ]
    },
    {
     "data": {
      "text/plain": [
       "True"
      ]
     },
     "execution_count": 26,
     "metadata": {},
     "output_type": "execute_result"
    }
   ],
   "source": [
    "nltk.download('punkt')"
   ]
  },
  {
   "cell_type": "code",
   "execution_count": 27,
   "id": "f79566ac",
   "metadata": {},
   "outputs": [],
   "source": [
    "df_all['count_sent']=df_all['Review'].apply(lambda x : len(nltk.sent_tokenize(str(x))))"
   ]
  },
  {
   "cell_type": "code",
   "execution_count": 28,
   "id": "2cf420ba",
   "metadata": {},
   "outputs": [
    {
     "data": {
      "text/html": [
       "<div>\n",
       "<style scoped>\n",
       "    .dataframe tbody tr th:only-of-type {\n",
       "        vertical-align: middle;\n",
       "    }\n",
       "\n",
       "    .dataframe tbody tr th {\n",
       "        vertical-align: top;\n",
       "    }\n",
       "\n",
       "    .dataframe thead th {\n",
       "        text-align: right;\n",
       "    }\n",
       "</style>\n",
       "<table border=\"1\" class=\"dataframe\">\n",
       "  <thead>\n",
       "    <tr style=\"text-align: right;\">\n",
       "      <th></th>\n",
       "      <th>Review</th>\n",
       "      <th>Rating</th>\n",
       "      <th>count_char</th>\n",
       "      <th>count_word</th>\n",
       "      <th>count_sent</th>\n",
       "    </tr>\n",
       "  </thead>\n",
       "  <tbody>\n",
       "    <tr>\n",
       "      <th>0</th>\n",
       "      <td>stayed better, hotel location ok building work...</td>\n",
       "      <td>0</td>\n",
       "      <td>707</td>\n",
       "      <td>108</td>\n",
       "      <td>1</td>\n",
       "    </tr>\n",
       "    <tr>\n",
       "      <th>1</th>\n",
       "      <td>fabulous resort family spent week beautiful pr...</td>\n",
       "      <td>1</td>\n",
       "      <td>247</td>\n",
       "      <td>33</td>\n",
       "      <td>1</td>\n",
       "    </tr>\n",
       "    <tr>\n",
       "      <th>2</th>\n",
       "      <td>friendly great location owners hotel extremely...</td>\n",
       "      <td>1</td>\n",
       "      <td>351</td>\n",
       "      <td>51</td>\n",
       "      <td>1</td>\n",
       "    </tr>\n",
       "    <tr>\n",
       "      <th>3</th>\n",
       "      <td>great air conditioning n't high priority list ...</td>\n",
       "      <td>0</td>\n",
       "      <td>1319</td>\n",
       "      <td>195</td>\n",
       "      <td>1</td>\n",
       "    </tr>\n",
       "    <tr>\n",
       "      <th>4</th>\n",
       "      <td>beautiful hotels stayed rooms cruise serenade ...</td>\n",
       "      <td>1</td>\n",
       "      <td>449</td>\n",
       "      <td>64</td>\n",
       "      <td>1</td>\n",
       "    </tr>\n",
       "  </tbody>\n",
       "</table>\n",
       "</div>"
      ],
      "text/plain": [
       "                                              Review Rating  count_char  \\\n",
       "0  stayed better, hotel location ok building work...      0         707   \n",
       "1  fabulous resort family spent week beautiful pr...      1         247   \n",
       "2  friendly great location owners hotel extremely...      1         351   \n",
       "3  great air conditioning n't high priority list ...      0        1319   \n",
       "4  beautiful hotels stayed rooms cruise serenade ...      1         449   \n",
       "\n",
       "   count_word  count_sent  \n",
       "0         108           1  \n",
       "1          33           1  \n",
       "2          51           1  \n",
       "3         195           1  \n",
       "4          64           1  "
      ]
     },
     "execution_count": 28,
     "metadata": {},
     "output_type": "execute_result"
    }
   ],
   "source": [
    "df_all.head()"
   ]
  },
  {
   "cell_type": "code",
   "execution_count": 29,
   "id": "11db4d46",
   "metadata": {},
   "outputs": [],
   "source": [
    "import re"
   ]
  },
  {
   "cell_type": "code",
   "execution_count": 30,
   "id": "56eac4c4",
   "metadata": {},
   "outputs": [
    {
     "data": {
      "text/plain": [
       "\"stayed better, hotel location ok building work opposite did n't add view room, 10 mins passeig gracia, area n't particularly lively clean good bar opposite.stayed weds thurs fri night 2 nights week fine noise friday night atrium room street outside resulted 3 hours sleep, street outside meeting point local teenagers.room n't large modern photographs believe no drawers odd, no bathrobe slippers stated website free safe came handy.the hotel pool deserted barca n't warming nice outside space hotel summer, staff 2 surly female receptionists did n't eat restaurant breakfast prices extortionate, price paid night expected better standard hotel certainly not 4 star hotel, 3 star realistic rating, wo n't,  \""
      ]
     },
     "execution_count": 30,
     "metadata": {},
     "output_type": "execute_result"
    }
   ],
   "source": [
    "df_all['Review'][0]"
   ]
  },
  {
   "cell_type": "code",
   "execution_count": 31,
   "id": "e014decf",
   "metadata": {},
   "outputs": [],
   "source": [
    "r1=re.sub('[^a-zA-Z]',' ',df_all['Review'][0])"
   ]
  },
  {
   "cell_type": "code",
   "execution_count": 32,
   "id": "53c3590b",
   "metadata": {},
   "outputs": [
    {
     "data": {
      "text/plain": [
       "'stayed better  hotel location ok building work opposite did n t add view room     mins passeig gracia  area n t particularly lively clean good bar opposite stayed weds thurs fri night   nights week fine noise friday night atrium room street outside resulted   hours sleep  street outside meeting point local teenagers room n t large modern photographs believe no drawers odd  no bathrobe slippers stated website free safe came handy the hotel pool deserted barca n t warming nice outside space hotel summer  staff   surly female receptionists did n t eat restaurant breakfast prices extortionate  price paid night expected better standard hotel certainly not   star hotel    star realistic rating  wo n t   '"
      ]
     },
     "execution_count": 32,
     "metadata": {},
     "output_type": "execute_result"
    }
   ],
   "source": [
    "r1"
   ]
  },
  {
   "cell_type": "code",
   "execution_count": 33,
   "id": "812e95fb",
   "metadata": {},
   "outputs": [],
   "source": [
    "r1 = r1.lower()"
   ]
  },
  {
   "cell_type": "code",
   "execution_count": 34,
   "id": "d874a5d1",
   "metadata": {},
   "outputs": [
    {
     "data": {
      "text/plain": [
       "'stayed better  hotel location ok building work opposite did n t add view room     mins passeig gracia  area n t particularly lively clean good bar opposite stayed weds thurs fri night   nights week fine noise friday night atrium room street outside resulted   hours sleep  street outside meeting point local teenagers room n t large modern photographs believe no drawers odd  no bathrobe slippers stated website free safe came handy the hotel pool deserted barca n t warming nice outside space hotel summer  staff   surly female receptionists did n t eat restaurant breakfast prices extortionate  price paid night expected better standard hotel certainly not   star hotel    star realistic rating  wo n t   '"
      ]
     },
     "execution_count": 34,
     "metadata": {},
     "output_type": "execute_result"
    }
   ],
   "source": [
    "r1"
   ]
  },
  {
   "cell_type": "code",
   "execution_count": 35,
   "id": "6c490763",
   "metadata": {},
   "outputs": [],
   "source": [
    "r1 = r1.split()"
   ]
  },
  {
   "cell_type": "code",
   "execution_count": 36,
   "id": "4bdffffd",
   "metadata": {},
   "outputs": [
    {
     "data": {
      "text/plain": [
       "['stayed',\n",
       " 'better',\n",
       " 'hotel',\n",
       " 'location',\n",
       " 'ok',\n",
       " 'building',\n",
       " 'work',\n",
       " 'opposite',\n",
       " 'did',\n",
       " 'n',\n",
       " 't',\n",
       " 'add',\n",
       " 'view',\n",
       " 'room',\n",
       " 'mins',\n",
       " 'passeig',\n",
       " 'gracia',\n",
       " 'area',\n",
       " 'n',\n",
       " 't',\n",
       " 'particularly',\n",
       " 'lively',\n",
       " 'clean',\n",
       " 'good',\n",
       " 'bar',\n",
       " 'opposite',\n",
       " 'stayed',\n",
       " 'weds',\n",
       " 'thurs',\n",
       " 'fri',\n",
       " 'night',\n",
       " 'nights',\n",
       " 'week',\n",
       " 'fine',\n",
       " 'noise',\n",
       " 'friday',\n",
       " 'night',\n",
       " 'atrium',\n",
       " 'room',\n",
       " 'street',\n",
       " 'outside',\n",
       " 'resulted',\n",
       " 'hours',\n",
       " 'sleep',\n",
       " 'street',\n",
       " 'outside',\n",
       " 'meeting',\n",
       " 'point',\n",
       " 'local',\n",
       " 'teenagers',\n",
       " 'room',\n",
       " 'n',\n",
       " 't',\n",
       " 'large',\n",
       " 'modern',\n",
       " 'photographs',\n",
       " 'believe',\n",
       " 'no',\n",
       " 'drawers',\n",
       " 'odd',\n",
       " 'no',\n",
       " 'bathrobe',\n",
       " 'slippers',\n",
       " 'stated',\n",
       " 'website',\n",
       " 'free',\n",
       " 'safe',\n",
       " 'came',\n",
       " 'handy',\n",
       " 'the',\n",
       " 'hotel',\n",
       " 'pool',\n",
       " 'deserted',\n",
       " 'barca',\n",
       " 'n',\n",
       " 't',\n",
       " 'warming',\n",
       " 'nice',\n",
       " 'outside',\n",
       " 'space',\n",
       " 'hotel',\n",
       " 'summer',\n",
       " 'staff',\n",
       " 'surly',\n",
       " 'female',\n",
       " 'receptionists',\n",
       " 'did',\n",
       " 'n',\n",
       " 't',\n",
       " 'eat',\n",
       " 'restaurant',\n",
       " 'breakfast',\n",
       " 'prices',\n",
       " 'extortionate',\n",
       " 'price',\n",
       " 'paid',\n",
       " 'night',\n",
       " 'expected',\n",
       " 'better',\n",
       " 'standard',\n",
       " 'hotel',\n",
       " 'certainly',\n",
       " 'not',\n",
       " 'star',\n",
       " 'hotel',\n",
       " 'star',\n",
       " 'realistic',\n",
       " 'rating',\n",
       " 'wo',\n",
       " 'n',\n",
       " 't']"
      ]
     },
     "execution_count": 36,
     "metadata": {},
     "output_type": "execute_result"
    }
   ],
   "source": [
    "r1"
   ]
  },
  {
   "cell_type": "code",
   "execution_count": 37,
   "id": "04e80deb",
   "metadata": {},
   "outputs": [],
   "source": [
    "from nltk.corpus import stopwords"
   ]
  },
  {
   "cell_type": "code",
   "execution_count": 38,
   "id": "83b91ba2",
   "metadata": {},
   "outputs": [],
   "source": [
    "all_stopwords=stopwords.words(\"english\")"
   ]
  },
  {
   "cell_type": "code",
   "execution_count": 39,
   "id": "337d8330",
   "metadata": {},
   "outputs": [
    {
     "data": {
      "text/plain": [
       "['i',\n",
       " 'me',\n",
       " 'my',\n",
       " 'myself',\n",
       " 'we',\n",
       " 'our',\n",
       " 'ours',\n",
       " 'ourselves',\n",
       " 'you',\n",
       " \"you're\",\n",
       " \"you've\",\n",
       " \"you'll\",\n",
       " \"you'd\",\n",
       " 'your',\n",
       " 'yours',\n",
       " 'yourself',\n",
       " 'yourselves',\n",
       " 'he',\n",
       " 'him',\n",
       " 'his',\n",
       " 'himself',\n",
       " 'she',\n",
       " \"she's\",\n",
       " 'her',\n",
       " 'hers',\n",
       " 'herself',\n",
       " 'it',\n",
       " \"it's\",\n",
       " 'its',\n",
       " 'itself',\n",
       " 'they',\n",
       " 'them',\n",
       " 'their',\n",
       " 'theirs',\n",
       " 'themselves',\n",
       " 'what',\n",
       " 'which',\n",
       " 'who',\n",
       " 'whom',\n",
       " 'this',\n",
       " 'that',\n",
       " \"that'll\",\n",
       " 'these',\n",
       " 'those',\n",
       " 'am',\n",
       " 'is',\n",
       " 'are',\n",
       " 'was',\n",
       " 'were',\n",
       " 'be',\n",
       " 'been',\n",
       " 'being',\n",
       " 'have',\n",
       " 'has',\n",
       " 'had',\n",
       " 'having',\n",
       " 'do',\n",
       " 'does',\n",
       " 'did',\n",
       " 'doing',\n",
       " 'a',\n",
       " 'an',\n",
       " 'the',\n",
       " 'and',\n",
       " 'but',\n",
       " 'if',\n",
       " 'or',\n",
       " 'because',\n",
       " 'as',\n",
       " 'until',\n",
       " 'while',\n",
       " 'of',\n",
       " 'at',\n",
       " 'by',\n",
       " 'for',\n",
       " 'with',\n",
       " 'about',\n",
       " 'against',\n",
       " 'between',\n",
       " 'into',\n",
       " 'through',\n",
       " 'during',\n",
       " 'before',\n",
       " 'after',\n",
       " 'above',\n",
       " 'below',\n",
       " 'to',\n",
       " 'from',\n",
       " 'up',\n",
       " 'down',\n",
       " 'in',\n",
       " 'out',\n",
       " 'on',\n",
       " 'off',\n",
       " 'over',\n",
       " 'under',\n",
       " 'again',\n",
       " 'further',\n",
       " 'then',\n",
       " 'once',\n",
       " 'here',\n",
       " 'there',\n",
       " 'when',\n",
       " 'where',\n",
       " 'why',\n",
       " 'how',\n",
       " 'all',\n",
       " 'any',\n",
       " 'both',\n",
       " 'each',\n",
       " 'few',\n",
       " 'more',\n",
       " 'most',\n",
       " 'other',\n",
       " 'some',\n",
       " 'such',\n",
       " 'no',\n",
       " 'nor',\n",
       " 'not',\n",
       " 'only',\n",
       " 'own',\n",
       " 'same',\n",
       " 'so',\n",
       " 'than',\n",
       " 'too',\n",
       " 'very',\n",
       " 's',\n",
       " 't',\n",
       " 'can',\n",
       " 'will',\n",
       " 'just',\n",
       " 'don',\n",
       " \"don't\",\n",
       " 'should',\n",
       " \"should've\",\n",
       " 'now',\n",
       " 'd',\n",
       " 'll',\n",
       " 'm',\n",
       " 'o',\n",
       " 're',\n",
       " 've',\n",
       " 'y',\n",
       " 'ain',\n",
       " 'aren',\n",
       " \"aren't\",\n",
       " 'couldn',\n",
       " \"couldn't\",\n",
       " 'didn',\n",
       " \"didn't\",\n",
       " 'doesn',\n",
       " \"doesn't\",\n",
       " 'hadn',\n",
       " \"hadn't\",\n",
       " 'hasn',\n",
       " \"hasn't\",\n",
       " 'haven',\n",
       " \"haven't\",\n",
       " 'isn',\n",
       " \"isn't\",\n",
       " 'ma',\n",
       " 'mightn',\n",
       " \"mightn't\",\n",
       " 'mustn',\n",
       " \"mustn't\",\n",
       " 'needn',\n",
       " \"needn't\",\n",
       " 'shan',\n",
       " \"shan't\",\n",
       " 'shouldn',\n",
       " \"shouldn't\",\n",
       " 'wasn',\n",
       " \"wasn't\",\n",
       " 'weren',\n",
       " \"weren't\",\n",
       " 'won',\n",
       " \"won't\",\n",
       " 'wouldn',\n",
       " \"wouldn't\"]"
      ]
     },
     "execution_count": 39,
     "metadata": {},
     "output_type": "execute_result"
    }
   ],
   "source": [
    "all_stopwords"
   ]
  },
  {
   "cell_type": "code",
   "execution_count": 40,
   "id": "7e95c5a0",
   "metadata": {},
   "outputs": [],
   "source": [
    "r1 = [word for word in r1 if word not in set(all_stopwords)]"
   ]
  },
  {
   "cell_type": "code",
   "execution_count": 41,
   "id": "e603f105",
   "metadata": {},
   "outputs": [
    {
     "data": {
      "text/plain": [
       "['stayed',\n",
       " 'better',\n",
       " 'hotel',\n",
       " 'location',\n",
       " 'ok',\n",
       " 'building',\n",
       " 'work',\n",
       " 'opposite',\n",
       " 'n',\n",
       " 'add',\n",
       " 'view',\n",
       " 'room',\n",
       " 'mins',\n",
       " 'passeig',\n",
       " 'gracia',\n",
       " 'area',\n",
       " 'n',\n",
       " 'particularly',\n",
       " 'lively',\n",
       " 'clean',\n",
       " 'good',\n",
       " 'bar',\n",
       " 'opposite',\n",
       " 'stayed',\n",
       " 'weds',\n",
       " 'thurs',\n",
       " 'fri',\n",
       " 'night',\n",
       " 'nights',\n",
       " 'week',\n",
       " 'fine',\n",
       " 'noise',\n",
       " 'friday',\n",
       " 'night',\n",
       " 'atrium',\n",
       " 'room',\n",
       " 'street',\n",
       " 'outside',\n",
       " 'resulted',\n",
       " 'hours',\n",
       " 'sleep',\n",
       " 'street',\n",
       " 'outside',\n",
       " 'meeting',\n",
       " 'point',\n",
       " 'local',\n",
       " 'teenagers',\n",
       " 'room',\n",
       " 'n',\n",
       " 'large',\n",
       " 'modern',\n",
       " 'photographs',\n",
       " 'believe',\n",
       " 'drawers',\n",
       " 'odd',\n",
       " 'bathrobe',\n",
       " 'slippers',\n",
       " 'stated',\n",
       " 'website',\n",
       " 'free',\n",
       " 'safe',\n",
       " 'came',\n",
       " 'handy',\n",
       " 'hotel',\n",
       " 'pool',\n",
       " 'deserted',\n",
       " 'barca',\n",
       " 'n',\n",
       " 'warming',\n",
       " 'nice',\n",
       " 'outside',\n",
       " 'space',\n",
       " 'hotel',\n",
       " 'summer',\n",
       " 'staff',\n",
       " 'surly',\n",
       " 'female',\n",
       " 'receptionists',\n",
       " 'n',\n",
       " 'eat',\n",
       " 'restaurant',\n",
       " 'breakfast',\n",
       " 'prices',\n",
       " 'extortionate',\n",
       " 'price',\n",
       " 'paid',\n",
       " 'night',\n",
       " 'expected',\n",
       " 'better',\n",
       " 'standard',\n",
       " 'hotel',\n",
       " 'certainly',\n",
       " 'star',\n",
       " 'hotel',\n",
       " 'star',\n",
       " 'realistic',\n",
       " 'rating',\n",
       " 'wo',\n",
       " 'n']"
      ]
     },
     "execution_count": 41,
     "metadata": {},
     "output_type": "execute_result"
    }
   ],
   "source": [
    "r1"
   ]
  },
  {
   "cell_type": "code",
   "execution_count": 42,
   "id": "d60356bf",
   "metadata": {},
   "outputs": [],
   "source": [
    "from nltk.stem.porter import PorterStemmer"
   ]
  },
  {
   "cell_type": "code",
   "execution_count": 43,
   "id": "dc9574cd",
   "metadata": {},
   "outputs": [],
   "source": [
    "ps = PorterStemmer()"
   ]
  },
  {
   "cell_type": "code",
   "execution_count": 44,
   "id": "b28bf045",
   "metadata": {},
   "outputs": [],
   "source": [
    "r1 = [ps.stem(word) for word in r1]"
   ]
  },
  {
   "cell_type": "code",
   "execution_count": 45,
   "id": "c79e70e5",
   "metadata": {},
   "outputs": [],
   "source": [
    "r1=\" \".join(r1)"
   ]
  },
  {
   "cell_type": "code",
   "execution_count": 46,
   "id": "ca1c6f90",
   "metadata": {},
   "outputs": [
    {
     "data": {
      "text/plain": [
       "'stay better hotel locat ok build work opposit n add view room min passeig gracia area n particularli live clean good bar opposit stay wed thur fri night night week fine nois friday night atrium room street outsid result hour sleep street outsid meet point local teenag room n larg modern photograph believ drawer odd bathrob slipper state websit free safe came handi hotel pool desert barca n warm nice outsid space hotel summer staff surli femal receptionist n eat restaur breakfast price extortion price paid night expect better standard hotel certainli star hotel star realist rate wo n'"
      ]
     },
     "execution_count": 46,
     "metadata": {},
     "output_type": "execute_result"
    }
   ],
   "source": [
    "r1"
   ]
  },
  {
   "cell_type": "code",
   "execution_count": 47,
   "id": "b7810896",
   "metadata": {},
   "outputs": [],
   "source": [
    "import re\n",
    "custom_stopwords = {'don',\"don't\",'ain','aren',\"aren't\",'couldn',\"couldn't\",'didn',\"didn't\",'doesn',\"doesn't\",'hadn',\"hadn't\",'hasn',\"hasn't\",'haven',\"haven't\",'isn',\"isn't\",'ma','mightn',\"mightn't\",'mustn',\"mustn't\",'needn',\"needn't\",'shan',\"shan't\",'no','nor','not','shouldn',\"shouldn't\",'wasn',\"wasn't\",'weren',\"weren't\",'won',\"won't\",'wouldn',\"wouldn't\"}\n",
    "corpus=[]\n",
    "ps=PorterStemmer()\n",
    "stop_words=set(stopwords.words(\"english\")) - custom_stopwords\n",
    "\n",
    "for i in range(len(df_all)):\n",
    "    r1=re.sub('[^a-zA-Z]',' ',df_all['Review'][i])\n",
    "    r1 = r1.lower()\n",
    "    r1 = r1.split()\n",
    "    r1 = [ps.stem(word) for word in r1 if word not in stop_words]\n",
    "    r1 = \" \".join(r1)\n",
    "    corpus.append(r1)\n",
    "    "
   ]
  },
  {
   "cell_type": "code",
   "execution_count": 48,
   "id": "57883313",
   "metadata": {},
   "outputs": [],
   "source": [
    "df_all['clean_word']=corpus"
   ]
  },
  {
   "cell_type": "code",
   "execution_count": 49,
   "id": "1d91bb22",
   "metadata": {},
   "outputs": [
    {
     "data": {
      "text/html": [
       "<div>\n",
       "<style scoped>\n",
       "    .dataframe tbody tr th:only-of-type {\n",
       "        vertical-align: middle;\n",
       "    }\n",
       "\n",
       "    .dataframe tbody tr th {\n",
       "        vertical-align: top;\n",
       "    }\n",
       "\n",
       "    .dataframe thead th {\n",
       "        text-align: right;\n",
       "    }\n",
       "</style>\n",
       "<table border=\"1\" class=\"dataframe\">\n",
       "  <thead>\n",
       "    <tr style=\"text-align: right;\">\n",
       "      <th></th>\n",
       "      <th>Review</th>\n",
       "      <th>Rating</th>\n",
       "      <th>count_char</th>\n",
       "      <th>count_word</th>\n",
       "      <th>count_sent</th>\n",
       "      <th>clean_word</th>\n",
       "    </tr>\n",
       "  </thead>\n",
       "  <tbody>\n",
       "    <tr>\n",
       "      <th>0</th>\n",
       "      <td>stayed better, hotel location ok building work...</td>\n",
       "      <td>0</td>\n",
       "      <td>707</td>\n",
       "      <td>108</td>\n",
       "      <td>1</td>\n",
       "      <td>stay better hotel locat ok build work opposit ...</td>\n",
       "    </tr>\n",
       "    <tr>\n",
       "      <th>1</th>\n",
       "      <td>fabulous resort family spent week beautiful pr...</td>\n",
       "      <td>1</td>\n",
       "      <td>247</td>\n",
       "      <td>33</td>\n",
       "      <td>1</td>\n",
       "      <td>fabul resort famili spent week beauti properti...</td>\n",
       "    </tr>\n",
       "    <tr>\n",
       "      <th>2</th>\n",
       "      <td>friendly great location owners hotel extremely...</td>\n",
       "      <td>1</td>\n",
       "      <td>351</td>\n",
       "      <td>51</td>\n",
       "      <td>1</td>\n",
       "      <td>friendli great locat owner hotel extrem friend...</td>\n",
       "    </tr>\n",
       "    <tr>\n",
       "      <th>3</th>\n",
       "      <td>great air conditioning n't high priority list ...</td>\n",
       "      <td>0</td>\n",
       "      <td>1319</td>\n",
       "      <td>195</td>\n",
       "      <td>1</td>\n",
       "      <td>great air condit n high prioriti list stay jia...</td>\n",
       "    </tr>\n",
       "    <tr>\n",
       "      <th>4</th>\n",
       "      <td>beautiful hotels stayed rooms cruise serenade ...</td>\n",
       "      <td>1</td>\n",
       "      <td>449</td>\n",
       "      <td>64</td>\n",
       "      <td>1</td>\n",
       "      <td>beauti hotel stay room cruis serenad sea thank...</td>\n",
       "    </tr>\n",
       "  </tbody>\n",
       "</table>\n",
       "</div>"
      ],
      "text/plain": [
       "                                              Review Rating  count_char  \\\n",
       "0  stayed better, hotel location ok building work...      0         707   \n",
       "1  fabulous resort family spent week beautiful pr...      1         247   \n",
       "2  friendly great location owners hotel extremely...      1         351   \n",
       "3  great air conditioning n't high priority list ...      0        1319   \n",
       "4  beautiful hotels stayed rooms cruise serenade ...      1         449   \n",
       "\n",
       "   count_word  count_sent                                         clean_word  \n",
       "0         108           1  stay better hotel locat ok build work opposit ...  \n",
       "1          33           1  fabul resort famili spent week beauti properti...  \n",
       "2          51           1  friendli great locat owner hotel extrem friend...  \n",
       "3         195           1  great air condit n high prioriti list stay jia...  \n",
       "4          64           1  beauti hotel stay room cruis serenad sea thank...  "
      ]
     },
     "execution_count": 49,
     "metadata": {},
     "output_type": "execute_result"
    }
   ],
   "source": [
    "df_all.head()"
   ]
  },
  {
   "cell_type": "code",
   "execution_count": 50,
   "id": "e649b162",
   "metadata": {},
   "outputs": [],
   "source": [
    "X=df_all['clean_word'].values\n",
    "y=df_all['Rating'].values"
   ]
  },
  {
   "cell_type": "code",
   "execution_count": 51,
   "id": "67d43fbb",
   "metadata": {},
   "outputs": [],
   "source": [
    "from sklearn.model_selection import train_test_split\n",
    "\n",
    "X_train,X_test,y_train,y_test = train_test_split(X,y,test_size=0.20,random_state=42)"
   ]
  },
  {
   "cell_type": "code",
   "execution_count": 52,
   "id": "e6288677",
   "metadata": {},
   "outputs": [
    {
     "data": {
      "text/plain": [
       "((5143,), (1286,))"
      ]
     },
     "execution_count": 52,
     "metadata": {},
     "output_type": "execute_result"
    }
   ],
   "source": [
    "X_train.shape,X_test.shape"
   ]
  },
  {
   "cell_type": "markdown",
   "id": "334e7c76",
   "metadata": {},
   "source": [
    "### model building and testing"
   ]
  },
  {
   "cell_type": "code",
   "execution_count": 53,
   "id": "7684faef",
   "metadata": {},
   "outputs": [],
   "source": [
    "from sklearn.feature_extraction.text import TfidfVectorizer"
   ]
  },
  {
   "cell_type": "code",
   "execution_count": 54,
   "id": "d255833d",
   "metadata": {},
   "outputs": [],
   "source": [
    "from sklearn.feature_extraction.text import CountVectorizer"
   ]
  },
  {
   "cell_type": "code",
   "execution_count": 55,
   "id": "26447bfa",
   "metadata": {},
   "outputs": [],
   "source": [
    "cv = CountVectorizer(max_features=2000)"
   ]
  },
  {
   "cell_type": "code",
   "execution_count": 56,
   "id": "d1bff339",
   "metadata": {},
   "outputs": [],
   "source": [
    "X=cv.fit_transform(corpus).toarray()"
   ]
  },
  {
   "cell_type": "code",
   "execution_count": 57,
   "id": "ea54eb97",
   "metadata": {},
   "outputs": [
    {
     "data": {
      "text/plain": [
       "array([[0, 0, 0, ..., 0, 0, 0],\n",
       "       [0, 0, 0, ..., 0, 0, 0],\n",
       "       [0, 0, 0, ..., 0, 0, 0],\n",
       "       ...,\n",
       "       [0, 0, 0, ..., 0, 0, 0],\n",
       "       [0, 0, 0, ..., 0, 0, 0],\n",
       "       [0, 0, 0, ..., 0, 0, 0]], dtype=int64)"
      ]
     },
     "execution_count": 57,
     "metadata": {},
     "output_type": "execute_result"
    }
   ],
   "source": [
    "X"
   ]
  },
  {
   "cell_type": "code",
   "execution_count": 58,
   "id": "6ed21350",
   "metadata": {},
   "outputs": [
    {
     "data": {
      "text/plain": [
       "(6429, 2000)"
      ]
     },
     "execution_count": 58,
     "metadata": {},
     "output_type": "execute_result"
    }
   ],
   "source": [
    "X.shape"
   ]
  },
  {
   "cell_type": "code",
   "execution_count": 59,
   "id": "928a6993",
   "metadata": {},
   "outputs": [],
   "source": [
    "y = df_all['Rating']"
   ]
  },
  {
   "cell_type": "code",
   "execution_count": 60,
   "id": "fb56c847",
   "metadata": {},
   "outputs": [
    {
     "data": {
      "text/plain": [
       "0       0\n",
       "1       1\n",
       "2       1\n",
       "3       0\n",
       "4       1\n",
       "       ..\n",
       "6424    0\n",
       "6425    1\n",
       "6426    0\n",
       "6427    0\n",
       "6428    0\n",
       "Name: Rating, Length: 6429, dtype: object"
      ]
     },
     "execution_count": 60,
     "metadata": {},
     "output_type": "execute_result"
    }
   ],
   "source": [
    "y"
   ]
  },
  {
   "cell_type": "code",
   "execution_count": 61,
   "id": "baeb69ac",
   "metadata": {},
   "outputs": [],
   "source": [
    "from sklearn.model_selection import train_test_split"
   ]
  },
  {
   "cell_type": "code",
   "execution_count": 62,
   "id": "6ccd8d13",
   "metadata": {},
   "outputs": [],
   "source": [
    "X_train,X_test,y_train,y_test = train_test_split(X,y,test_size=0.20,random_state=42)"
   ]
  },
  {
   "cell_type": "code",
   "execution_count": 63,
   "id": "6faf30fa",
   "metadata": {},
   "outputs": [],
   "source": [
    "from sklearn.naive_bayes import GaussianNB"
   ]
  },
  {
   "cell_type": "code",
   "execution_count": 64,
   "id": "3f58d994",
   "metadata": {},
   "outputs": [],
   "source": [
    "nb = GaussianNB()\n",
    "nb.fit(X_train,y_train)\n",
    "y_pred = nb.predict(X_test)"
   ]
  },
  {
   "cell_type": "code",
   "execution_count": 65,
   "id": "ceb03e25",
   "metadata": {},
   "outputs": [],
   "source": [
    "from sklearn.metrics import accuracy_score"
   ]
  },
  {
   "cell_type": "code",
   "execution_count": 66,
   "id": "d22c1567",
   "metadata": {},
   "outputs": [
    {
     "data": {
      "text/plain": [
       "0.8716951788491446"
      ]
     },
     "execution_count": 66,
     "metadata": {},
     "output_type": "execute_result"
    }
   ],
   "source": [
    "accuracy_score(y_test,y_pred)"
   ]
  },
  {
   "cell_type": "code",
   "execution_count": 67,
   "id": "e9e13c8c",
   "metadata": {},
   "outputs": [
    {
     "data": {
      "text/plain": [
       "0.9339035769828927"
      ]
     },
     "execution_count": 67,
     "metadata": {},
     "output_type": "execute_result"
    }
   ],
   "source": [
    "from sklearn.ensemble import RandomForestClassifier\n",
    "rf=RandomForestClassifier()\n",
    "rf.fit(X_train,y_train)\n",
    "y_pred = rf.predict(X_test)\n",
    "accuracy_score(y_test,y_pred)\n"
   ]
  },
  {
   "cell_type": "code",
   "execution_count": 68,
   "id": "9874ff1e",
   "metadata": {},
   "outputs": [
    {
     "data": {
      "text/plain": [
       "0.9362363919129082"
      ]
     },
     "execution_count": 68,
     "metadata": {},
     "output_type": "execute_result"
    }
   ],
   "source": [
    "from sklearn.svm import SVC\n",
    "svm=RandomForestClassifier()\n",
    "svm.fit(X_train,y_train)\n",
    "y_pred = svm.predict(X_test)\n",
    "accuracy_score(y_test,y_pred)"
   ]
  },
  {
   "cell_type": "code",
   "execution_count": 69,
   "id": "b30554c0",
   "metadata": {},
   "outputs": [
    {
     "data": {
      "text/plain": [
       "0.9517884914463453"
      ]
     },
     "execution_count": 69,
     "metadata": {},
     "output_type": "execute_result"
    }
   ],
   "source": [
    "from sklearn.linear_model import LogisticRegression\n",
    "lr = LogisticRegression()\n",
    "lr.fit(X_train,y_train)\n",
    "y_pred = lr.predict(X_test)\n",
    "accuracy_score(y_test,y_pred)\n"
   ]
  },
  {
   "cell_type": "code",
   "execution_count": 70,
   "id": "8fe9b997",
   "metadata": {},
   "outputs": [
    {
     "data": {
      "image/png": "[encoded data removed]",
      "text/plain": [
       "<Figure size 640x480 with 1 Axes>"
      ]
     },
     "metadata": {},
     "output_type": "display_data"
    }
   ],
   "source": [
    "import matplotlib.pyplot as plt\n",
    "\n",
    "# Accuracy scores of the models\n",
    "accuracy_scores = {\n",
    "    'Naive Bayes': 0.8328149300155521,\n",
    "    'Logistic Regression': 0.9416796267496111,\n",
    "    'Random Forest': 0.9362363919129082,\n",
    "    'SVM': 0.9331259720062208\n",
    "}\n",
    "\n",
    "# Plotting the accuracies\n",
    "plt.bar(accuracy_scores.keys(), accuracy_scores.values(), color=['blue', 'orange', 'green', 'red'])\n",
    "plt.xlabel('Models')\n",
    "plt.ylabel('Accuracy')\n",
    "plt.title('Comparison of Model Accuracies')\n",
    "plt.ylim(0.8, 1.0)  \n",
    "plt.show()\n"
   ]
  },
  {
   "cell_type": "code",
   "execution_count": 71,
   "id": "64dc0016",
   "metadata": {},
   "outputs": [
    {
     "name": "stdout",
     "output_type": "stream",
     "text": [
      "0.9517884914463453\n"
     ]
    }
   ],
   "source": [
    "import re\n",
    "from nltk.corpus import stopwords\n",
    "from nltk.stem import PorterStemmer\n",
    "from sklearn.feature_extraction.text import TfidfVectorizer\n",
    "from sklearn.linear_model import LogisticRegression\n",
    "from sklearn.metrics import accuracy_score\n",
    "from sklearn.model_selection import train_test_split\n",
    "from sklearn.linear_model import LogisticRegression\n",
    "from sklearn.metrics import accuracy_score\n",
    "import numpy as np\n",
    "\n",
    "custom_stopwords = {'don',\"don't\",'ain','aren',\"aren't\",'couldn',\"couldn't\",'didn',\"didn't\",'doesn',\"doesn't\",'hadn',\"hadn't\",'hasn',\"hasn't\",'haven',\"haven't\",'isn',\"isn't\",'ma','mightn',\"mightn't\",'mustn',\"mustn't\",'needn',\"needn't\",'shan',\"shan't\",'no','nor','not','shouldn',\"shouldn't\",'wasn',\"wasn't\",'weren',\"weren't\",'won',\"won't\",'wouldn',\"wouldn't\"}\n",
    "corpus=[]\n",
    "ps=PorterStemmer()\n",
    "stop_words=set(stopwords.words(\"english\")) - custom_stopwords\n",
    "\n",
    "for i in range(len(df_all)):\n",
    "    r1=re.sub('[^a-zA-Z]',' ',df_all['Review'][i])\n",
    "    r1 = r1.lower()\n",
    "    r1 = r1.split()\n",
    "    r1 = [ps.stem(word) for word in r1 if word not in stop_words]\n",
    "    r1 = \" \".join(r1)\n",
    "    corpus.append(r1)\n",
    "    \n",
    "from sklearn.feature_extraction.text import CountVectorizer\n",
    "cv = CountVectorizer(max_features=2000)\n",
    "X=cv.fit_transform(corpus).toarray()\n",
    "\n",
    "X_train,X_test,y_train,y_test = train_test_split(X,y,test_size=0.20,random_state=42)\n",
    "\n",
    "\n",
    "lr = LogisticRegression(random_state=42)\n",
    "lr.fit(X_train,y_train)\n",
    "y_pred = lr.predict(X_test)\n",
    "accuracy=accuracy_score(y_test,y_pred)\n",
    "print(accuracy)\n",
    "\n"
   ]
  },
  {
   "cell_type": "code",
   "execution_count": 72,
   "id": "8ed2dfca",
   "metadata": {},
   "outputs": [],
   "source": [
    "import pickle\n",
    "\n",
    "with open('LogisticRegression.pkl', 'wb') as f:\n",
    "    pickle.dump(lr, f)\n",
    "\n"
   ]
  },
  {
   "cell_type": "code",
   "execution_count": 73,
   "id": "a983ec13",
   "metadata": {},
   "outputs": [
    {
     "data": {
      "text/plain": [
       "0       0\n",
       "1       1\n",
       "2       1\n",
       "3       0\n",
       "4       1\n",
       "       ..\n",
       "6424    0\n",
       "6425    1\n",
       "6426    0\n",
       "6427    0\n",
       "6428    0\n",
       "Name: Rating, Length: 6429, dtype: object"
      ]
     },
     "execution_count": 73,
     "metadata": {},
     "output_type": "execute_result"
    }
   ],
   "source": [
    "from sklearn.feature_extraction.text import CountVectorizer\n",
    "cv = CountVectorizer(max_features=2000)\n",
    "X=cv.fit_transform(corpus).toarray()\n",
    "X\n",
    "X.shape\n",
    "y = df_all['Rating']\n",
    "y"
   ]
  },
  {
   "cell_type": "code",
   "execution_count": 74,
   "id": "0be2f27d",
   "metadata": {},
   "outputs": [],
   "source": [
    "import pickle\n",
    "\n",
    "with open('vectorizer.pkl', 'wb') as f:\n",
    "    pickle.dump(cv, f)"
   ]
  },
  {
   "cell_type": "code",
   "execution_count": null,
   "id": "aafd5bc4",
   "metadata": {},
   "outputs": [],
   "source": []
  }
 ],
 "metadata": {
  "kernelspec": {
   "display_name": "Python 3 (ipykernel)",
   "language": "python",
   "name": "python3"
  },
  "language_info": {
   "codemirror_mode": {
    "name": "ipython",
    "version": 3
   },
   "file_extension": ".py",
   "mimetype": "text/x-python",
   "name": "python",
   "nbconvert_exporter": "python",
   "pygments_lexer": "ipython3",
   "version": "3.11.5"
  }
 },
 "nbformat": 4,
 "nbformat_minor": 5
}
